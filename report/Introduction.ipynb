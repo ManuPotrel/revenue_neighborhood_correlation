{
 "cells": [
  {
   "cell_type": "markdown",
   "id": "240aef6e",
   "metadata": {},
   "source": [
    "# Introduction / Business problem"
   ]
  },
  {
   "cell_type": "markdown",
   "id": "8f950a1c",
   "metadata": {},
   "source": [
    "Paris is the capital of France. It is segmented in 20 neighborhoods called _\"arrondissements\"_.<br>\n",
    "You may find a lot of information about Paris on <a href='https://en.wikipedia.org/wiki/Paris'>this page</a>.\n",
    "\n",
    "The population of this city is very mixed, as is the case with most major cities in the world.<br>\n",
    "You may find very wealthy households and very poor families. Ethnicity is also very diverse.\n",
    "\n",
    "However, this does not mean that the distribution of the population is completely random. There are patterns when you look closer. For example, if you look at the 13th _arrondissement_, you will find that the proportion of chinese people is greater than in other _arrondissements_.\n",
    "\n",
    "All in all, this diversity offers various opportunities for business plans because no matter what product or service you're selling, there is a very high chance that you will find someone who is interested, it's all about locating them.\n",
    "\n",
    "Being able to target customers like this requires a lot of preparatory steps and once such step will be the topic of our project here :\n",
    "\n",
    "**Can we find a correlation between the revenues of a household and the type of neighborhood the people live in?**\n",
    "\n",
    "You may find this question absurd. Of course, when seeing a neighborhood, you can very often assume the level of wealth of its residents.<br>\n",
    "The trick here is in the definition of _type of neighborhood_.\n",
    "\n",
    "Instead of looking at the real estate for example, we will try to classify the neighborhoods depending on the venues available around but _without_ looking at the financial aspects of those venues.\n",
    "\n",
    "This could give us some information about what wealthier people like to surround themselves with for example.\n",
    "\n",
    "The problem here is that there are too few neighborhoods in Paris for the analysis to be statistically relevant, which is why we will adopt a more original method.\n",
    "\n",
    "We will train a clustering algorithm not only on the neighborhoods inside of Paris, but we will also use Toronto and New York data.\n",
    "\n",
    "We will then have a large training set and will be able to distinguish a few different types of neighborhoods without ever looking at the financial states.\n",
    "\n",
    "Once this is done, we will have a look at the classification of the Paris neighborhoods and study their relation to the revenues data we have."
   ]
  }
 ],
 "metadata": {
  "kernelspec": {
   "display_name": "Python 3",
   "language": "python",
   "name": "python3"
  },
  "language_info": {
   "codemirror_mode": {
    "name": "ipython",
    "version": 3
   },
   "file_extension": ".py",
   "mimetype": "text/x-python",
   "name": "python",
   "nbconvert_exporter": "python",
   "pygments_lexer": "ipython3",
   "version": "3.9.4"
  },
  "toc": {
   "base_numbering": 1,
   "nav_menu": {},
   "number_sections": true,
   "sideBar": true,
   "skip_h1_title": false,
   "title_cell": "Table of Contents",
   "title_sidebar": "Contents",
   "toc_cell": false,
   "toc_position": {},
   "toc_section_display": true,
   "toc_window_display": false
  }
 },
 "nbformat": 4,
 "nbformat_minor": 5
}
