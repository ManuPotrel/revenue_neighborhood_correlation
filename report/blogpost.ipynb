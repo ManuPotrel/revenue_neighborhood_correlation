{
 "cells": [
  {
   "cell_type": "markdown",
   "id": "006e524d",
   "metadata": {},
   "source": [
    "# Comparing income and venues in Paris with Machine Learning"
   ]
  },
  {
   "cell_type": "markdown",
   "id": "8262e08a",
   "metadata": {},
   "source": [
    "<img src=\"https://upload.wikimedia.org/wikipedia/commons/thumb/5/51/IBM_logo.svg/langfr-560px-IBM_logo.svg.png\" style=\"max-width:25%\" />\n",
    "\n",
    "\n",
    "<img src=\"https://upload.wikimedia.org/wikipedia/commons/thumb/9/97/Coursera-Logo_600x600.svg/1200px-Coursera-Logo_600x600.svg.png\" style=\"max-width: 25%\"/>\n",
    "\n",
    "Is it possible to establish a correlation between a neighborhood type and the average income of its inhabitants?<br>\n",
    "You might be tempted to say that yes, of course, it's pretty obvious! Well, in that case, I would ask you how you define a neighborhood's type. Because as you will see here, without visual factors, it does not seem that obvious.\n",
    "\n",
    "Have you ever heard of FourSquare? If no, then you should correct that mistake. It is an excellent recommendation app and can be used as an incredible API by developers.\n",
    "\n",
    "<a href=\"https://en.wikipedia.org/wiki/Foursquare_City_Guide\"><img src=\"https://upload.wikimedia.org/wikipedia/commons/thumb/d/dc/Foursquare_logo.svg/1024px-Foursquare_logo.svg.png\" style=\"max-width: 30%\"/></a>\n",
    "\n",
    "To be able to recommend places to users, it needs to have a lot of information linking venues by types and locations. This is the role it played in our study here.\n",
    "\n",
    "**Case study**: Paris\n",
    "\n",
    "<img src=\"../analysis/displot_salaries.png\" />\n",
    "\n",
    "What we want to really study here is whether or not it is possible to establish a connection between the neighborhood type of each _arrondissement_ and the average salary there.\n",
    "\n",
    "You might think yes, ok, so far so good, but how do you decide which neighborhood belongs to which type? That's the beauty of Machine Learning, I don't. My model does.\n",
    "\n",
    "_But how?_<br>\n",
    "Well, here's how: we gather data about the neighborhoods in Paris, i.e their name and their geographical location. Then, using the FourSquare API and the geographical coordinates, we create a DataFrame about every venue in Paris, associated with the neighborhood they belong to. No group this by neighborhood and we get a nice one hot type dataframe, each row representing a neighborhood, and the presence of each venue type being a feature.\n",
    "\n",
    "_Okay, but you still only have 20 neighborhoods to work with, right?_<br>\n",
    "Well, no! We will use this method on two other cities: Toronto and New York.\n",
    "\n",
    "_Why?_<br>\n",
    "By doing this, we will have a very large dataset with various types of neighborhoods. The model won't know which neighborhood belongs to which city, so this will provide a more decent train dataset.\n",
    "\n",
    "<img src=\"https://scikit-learn.org/stable/_static/scikit-learn-logo-small.png\" />\n",
    "\n",
    "By using <a href=\"https://scikit-learn.org/stable/modules/generated/sklearn.cluster.KMeans.html\">scikit-learn's KMeans clustering</a> on our enhanced dataset, we extracted five types of neighborhood and associated each neighborhood with its cluster label.\n",
    "\n",
    "<img src='../analysis/cluster_distrib.png/'>\n",
    "\n",
    "We can see that the distribution here is pretty even among the clusters.<br>\n",
    "But let's visualize it more clearly with a map!\n",
    "\n",
    "<img src='../analysis/paris_clusters_map.png/' style='max-width:50%'>\n",
    "\n",
    "_Doesn't it look like the neighborhoods were grouped radially?_<br>\n",
    "It does indeed! This isn't necessarily true though, it is also possible that by some other correlation, the neighborhoods closer to the center of a city have certain types of venues others don't. But still, it is a very likely possibility so we will need to test it out in the near future.\n",
    "\n",
    "Now let's look at some graphs again.\n",
    "\n",
    "<img src='../analysis/cluster_salary_paris.png/'>\n",
    "\n",
    "It appears that there is not obvious correlation between Paris' neighborhoods types and the average salaries for each neighborhood. Though it does seem as though some clusters can't reach as high a salary average as others.\n",
    "\n",
    "We need to make sure, let's ask the smart guys out there for a more clear cut result!\n",
    "\n",
    "<img src='../analysis/anova.png/' style='max-width:40%'>\n",
    "\n",
    "Okay, now it all depends on the threshold that you feel is more adequate here. The usual choice is 5% so we'll with that here. In our case, it seems to be between 7% and 8%. So that means we cannot reject the hypothesis that income and neighborhood type are uncorrelated.\n",
    "\n",
    "_So... That's it?_<br>\n",
    "No it isn't! I mean, it is for now, but this little study shows that we're onto something. Yes, we're not below the 5% threshold but we're close. And we decided to cluster the neighborhoods based on what type they were according to venues. But what if some types of venues are irrelevant? Or even making our model go in the wrong direction? What if we're missing some feature? This is close enough that extra investigation seems worth the time.<br>\n",
    "There is also the matter of radial classification that has to be investigated.\n",
    "\n",
    "All in all, we couldn't reach a very clear conclusion yet, which is not that surprising, it wasn't an easy question, but we got some real info there and some very interesting leads!"
   ]
  }
 ],
 "metadata": {
  "kernelspec": {
   "display_name": "Python 3",
   "language": "python",
   "name": "python3"
  },
  "language_info": {
   "codemirror_mode": {
    "name": "ipython",
    "version": 3
   },
   "file_extension": ".py",
   "mimetype": "text/x-python",
   "name": "python",
   "nbconvert_exporter": "python",
   "pygments_lexer": "ipython3",
   "version": "3.9.4"
  },
  "toc": {
   "base_numbering": 1,
   "nav_menu": {},
   "number_sections": true,
   "sideBar": true,
   "skip_h1_title": false,
   "title_cell": "Table of Contents",
   "title_sidebar": "Contents",
   "toc_cell": false,
   "toc_position": {},
   "toc_section_display": true,
   "toc_window_display": false
  }
 },
 "nbformat": 4,
 "nbformat_minor": 5
}
