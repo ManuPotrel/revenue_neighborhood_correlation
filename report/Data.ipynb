{
 "cells": [
  {
   "cell_type": "markdown",
   "id": "0660ebc4",
   "metadata": {},
   "source": [
    "# Data"
   ]
  },
  {
   "cell_type": "markdown",
   "id": "4be5b06f",
   "metadata": {},
   "source": [
    "We will now discuss the data we chose to use for this project.\n",
    "\n",
    "To be able to study the correlation between neighborhoods and revenues, we need data on the revenues. We will get it by scraping <a href='https://www.salairemoyen.com/departement-75-PARIS.html'>this website</a> which contains the relevant salary information for each neighborhood in Paris.\n",
    "\n",
    "We will also use data gathered by the <a href='https://www.insee.fr/en/accueil'>INSEE</a> to get the latitude and longitude of each Paris neighborhood. You can download it <a href='https://data.opendatasoft.com/explore/dataset/code-postal-code-insee-2015%40public/table/'>here</a>.<br>\n",
    "A more complex dataset will also be included for deeper research.\n",
    "\n",
    "Toronto's neighborhood data (names and coordinates) will be scraped from <a href='https://en.wikipedia.org/w/index.php?title=List_of_postal_codes_of_Canada:_M&oldid=1012118802'>this Wikipedia page</a>.\n",
    "\n",
    "Finally, we will use a json file containing all the relevant information about the New York neighborhoods.\n",
    "\n",
    "All those datasets contain (or, in the case of Paris, will allow to build) each neighborhood for those three cities and the respective latitudes and longitudes of those neighborhoods.\n",
    "\n",
    "We will then be able to engineer a new feature, the `center_distance` feature indicating how far each neighborhood is from downtown. This is a relevant factor when classifying neighborhoods.\n",
    "\n",
    "With this data, we are planning to use the <a href='https://foursquare.com/'>FourSquare</a> API to get all the information we need about the venues in each neighborhood.<br>\n",
    "The presence of certain types of venues will be the features that help us segment the neighborhoods in several categories (for now, 5 will be enough)."
   ]
  }
 ],
 "metadata": {
  "kernelspec": {
   "display_name": "Python 3",
   "language": "python",
   "name": "python3"
  },
  "language_info": {
   "codemirror_mode": {
    "name": "ipython",
    "version": 3
   },
   "file_extension": ".py",
   "mimetype": "text/x-python",
   "name": "python",
   "nbconvert_exporter": "python",
   "pygments_lexer": "ipython3",
   "version": "3.9.4"
  },
  "toc": {
   "base_numbering": 1,
   "nav_menu": {},
   "number_sections": true,
   "sideBar": true,
   "skip_h1_title": false,
   "title_cell": "Table of Contents",
   "title_sidebar": "Contents",
   "toc_cell": false,
   "toc_position": {},
   "toc_section_display": true,
   "toc_window_display": false
  }
 },
 "nbformat": 4,
 "nbformat_minor": 5
}
